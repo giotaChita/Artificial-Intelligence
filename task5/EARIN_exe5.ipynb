{
  "nbformat": 4,
  "nbformat_minor": 0,
  "metadata": {
    "colab": {
      "name": "EARIN exe5.ipynb",
      "provenance": [],
      "collapsed_sections": []
    },
    "kernelspec": {
      "name": "python3",
      "display_name": "Python 3"
    },
    "language_info": {
      "name": "python"
    }
  },
  "cells": [
    {
      "cell_type": "code",
      "execution_count": 1,
      "metadata": {
        "id": "RrbEGiL2Ckyr"
      },
      "outputs": [],
      "source": [
        "import numpy as np \n",
        "import pandas as pd \n",
        "import matplotlib.pyplot as plt\n",
        "from sklearn import preprocessing\n",
        "from sklearn.preprocessing import MinMaxScaler\n",
        "from sklearn import metrics\n",
        "from sklearn.metrics import confusion_matrix\n",
        "import itertools"
      ]
    },
    {
      "cell_type": "code",
      "source": [
        "class dlnet:\n",
        "  def __init__(self,x,y):\n",
        "    self.X = x\n",
        "    self.Y = y\n",
        "    self.Yh = np.zeros((1,self.Y.shape[1]))\n",
        "\n",
        "  def nInit(self):    \n",
        "    np.random.seed(1)\n",
        "    self.param['W1'] = np.random.randn(self.dims[1], self.dims[0]) / np.sqrt(self.dims[0]) \n",
        "    self.param['b1'] = np.zeros((self.dims[1], 1))        \n",
        "    self.param['W2'] = np.random.randn(self.dims[2], self.dims[1]) / np.sqrt(self.dims[1]) \n",
        "    self.param['b2'] = np.zeros((self.dims[2], 1))                \n",
        "    return\n",
        "  def Sigmoid(Z):\n",
        "    return 1/(1+np.exp(-Z))\n",
        "  def Relu(Z):\n",
        "    return np.maximum(0,Z)\n",
        "  def forward(self):    \n",
        "    Z1 = self.param['W1'].dot(self.X) + self.param['b1'] \n",
        "    A1 = Relu(Z1)\n",
        "    self.ch['Z1'],self.ch['A1']=Z1,A1\n",
        "    \n",
        "    Z2 = self.param['W2'].dot(A1) + self.param['b2']  \n",
        "    A2 = Sigmoid(Z2)\n",
        "    self.ch['Z2'],self.ch['A2']=Z2,A2\n",
        "    self.Yh=A2\n",
        "    loss=self.nloss(A2)\n",
        "    return self.Yh, loss  "
      ],
      "metadata": {
        "id": "XxfR6MwQCqn8"
      },
      "execution_count": 4,
      "outputs": []
    },
    {
      "cell_type": "code",
      "source": [
        "# https://towardsdatascience.com/coding-a-2-layer-neural-network-from-scratch-in-python-4dd022d19fd2\n",
        "# https://docs.google.com/document/d/1yxH2WGnsd3zxQeVVU4MRXnxlEfzxvIUoUXy5q1CrGGM/edit\n",
        "# https://teams.microsoft.com/_?culture=pl-pl&country=PL&lm=deeplink&lmsrc=homePageWeb&cmpid=WebSignIn#/pdf/viewer/teams/https:~2F~2Fwutwaw.sharepoint.com~2Fsites~2F103A-CSCSN-ISA-EARIN~2FShared%20Documents~2FGeneral~2Fearn%205.pdf?threadId=19:cALUHwIlY7IsxUEst2yGFQqprM5NRLIZ0V6SHv9qdRA1@thread.tacv2&messageId=1651737680967&baseUrl=https:~2F~2Fwutwaw.sharepoint.com~2Fsites~2F103A-CSCSN-ISA-EARIN&fileId=bbf6d5ca-6ada-4270-84b1-9e914f7e42ae&ctx=chiclet&viewerAction=view"
      ],
      "metadata": {
        "id": "vJVB6xD7CoiY"
      },
      "execution_count": null,
      "outputs": []
    }
  ]
}